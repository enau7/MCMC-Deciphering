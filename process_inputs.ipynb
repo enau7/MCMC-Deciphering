{
 "cells": [
  {
   "cell_type": "code",
   "execution_count": 1,
   "metadata": {},
   "outputs": [
    {
     "name": "stdout",
     "output_type": "stream",
     "text": [
      "Wrote file 1\n",
      "Wrote file 2\n",
      "Wrote file 3\n",
      "Wrote file 4\n",
      "Wrote file 5\n",
      "Wrote file 6\n",
      "Wrote file 7\n",
      "Wrote file 8\n",
      "Wrote file 9\n",
      "Wrote file 10\n",
      "Wrote file 11\n",
      "Wrote file 12\n",
      "Wrote file 13\n",
      "Wrote file 14\n",
      "Wrote file 15\n",
      "Wrote file 16\n",
      "Wrote file 17\n",
      "Wrote file 18\n",
      "Wrote file 19\n",
      "Wrote file 20\n",
      "Wrote file 21\n",
      "Wrote file 22\n",
      "Wrote file 23\n",
      "Wrote file 24\n",
      "Wrote file 25\n",
      "Wrote file 26\n",
      "Wrote file 27\n",
      "Wrote file 28\n",
      "Wrote file 29\n",
      "Wrote file 30\n",
      "Wrote file 31\n",
      "Wrote file 32\n",
      "Wrote file 33\n",
      "Wrote file 34\n",
      "Wrote file 35\n",
      "Wrote file 36\n",
      "Wrote file 37\n",
      "Wrote file 38\n",
      "Wrote file 39\n",
      "Wrote file 40\n",
      "Wrote file 41\n",
      "Wrote file 42\n",
      "Wrote file 43\n",
      "Wrote file 44\n",
      "Wrote file 45\n",
      "Wrote file 46\n",
      "Wrote file 47\n",
      "Wrote file 48\n",
      "Wrote file 49\n",
      "Wrote file 50\n",
      "Wrote file 51\n",
      "Wrote file 52\n",
      "Wrote file 53\n",
      "Wrote file 54\n"
     ]
    }
   ],
   "source": [
    "import csv\n",
    "import re\n",
    "with open('data/Project Survey Survey Student Analysis Report.csv') as csv_file:\n",
    "    csv_reader=csv.reader(csv_file, delimiter=',')\n",
    "    line_count = 0\n",
    "    all_output = ''\n",
    "    for row in csv_reader:\n",
    "        if line_count == 0:\n",
    "            #print(f'Column names are {\", \".join(row)}')\n",
    "            line_count += 1\n",
    "        else:\n",
    "            with open(f'data/student_original/{line_count}.txt','wt') as new_file:\n",
    "                out_write = re.sub(r'[^A-Za-z0-9 .,!? \\n]','',row[8])\n",
    "                new_file.write(out_write)\n",
    "                all_output+='\\n'\n",
    "                all_output+=out_write\n",
    "            print(f\"Wrote file {line_count}\")\n",
    "            line_count +=1\n",
    "    with open(f'data/all_out_student_words.txt','wt') as file_out:\n",
    "        file_out.write(all_output)\n"
   ]
  },
  {
   "cell_type": "code",
   "execution_count": 3,
   "metadata": {},
   "outputs": [],
   "source": [
    "import os\n",
    "from pathlib import Path\n",
    "os.getcwd()\n",
    "directory = 'data/student_original/'\n",
    "directory_out = 'data/student_scrambled'\n",
    "for filename in os.listdir(directory):\n",
    "    f=os.path.join(directory,filename)\n",
    "    filename_scramble = Path(f).stem+\"_scramble.txt\"\n",
    "    out_f = os.path.join(directory_out, filename_scramble)\n",
    "    if(os.path.isfile(f)):\n",
    "        #print(f\"input: {f}\\n output:{out_f} \\n\")\n",
    "\n",
    "        os.system(f'python3 scramble_text.py -i {f} > {out_f}')"
   ]
  },
  {
   "cell_type": "code",
   "execution_count": null,
   "metadata": {},
   "outputs": [],
   "source": []
  }
 ],
 "metadata": {
  "kernelspec": {
   "display_name": "Python 3",
   "language": "python",
   "name": "python3"
  },
  "language_info": {
   "codemirror_mode": {
    "name": "ipython",
    "version": 3
   },
   "file_extension": ".py",
   "mimetype": "text/x-python",
   "name": "python",
   "nbconvert_exporter": "python",
   "pygments_lexer": "ipython3",
   "version": "3.10.9"
  },
  "orig_nbformat": 4,
  "vscode": {
   "interpreter": {
    "hash": "415ac8d6cafc15fb0d7615085285da1effac724f45c0fa26b21a14337ba5dd35"
   }
  }
 },
 "nbformat": 4,
 "nbformat_minor": 2
}
